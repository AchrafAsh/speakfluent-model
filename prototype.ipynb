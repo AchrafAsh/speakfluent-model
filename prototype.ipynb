{
 "cells": [
  {
   "cell_type": "code",
   "execution_count": 50,
   "metadata": {},
   "outputs": [
    {
     "name": "stdout",
     "output_type": "stream",
     "text": [
      "cpu\n"
     ]
    }
   ],
   "source": [
    "import os\n",
    "import string\n",
    "\n",
    "import torch\n",
    "import torch.nn as nn\n",
    "import torch.nn.functional as F\n",
    "from torch.utils.data import DataLoader\n",
    "from torch.utils.data import Dataset\n",
    "from torch.autograd import Variable\n",
    "\n",
    "import torchvision.models as models\n",
    "from torchvision import transforms\n",
    "\n",
    "import torchaudio\n",
    "\n",
    "import pandas as pd\n",
    "import matplotlib.pyplot as plt\n",
    "\n",
    "%matplotlib inline\n",
    "\n",
    "device = torch.device(\"cuda\" if torch.cuda.is_available() else \"cpu\")\n",
    "print(device)"
   ]
  },
  {
   "cell_type": "markdown",
   "metadata": {},
   "source": [
    "### Preprocessing word (one hot encoding)"
   ]
  },
  {
   "cell_type": "code",
   "execution_count": 2,
   "metadata": {},
   "outputs": [],
   "source": [
    "class TextTransform:\n",
    "    \"\"\" Maps characters to integers and vice versa \"\"\"\n",
    "    def __init__(self):\n",
    "        char_map_str = \"\"\"\n",
    "            ' 0\n",
    "            <SPACE> 1\n",
    "            a 2\n",
    "            b 3\n",
    "            c 4\n",
    "            d 5\n",
    "            e 6\n",
    "            f 7\n",
    "            g 8\n",
    "            h 9\n",
    "            i 10\n",
    "            j 11\n",
    "            k 12\n",
    "            l 13\n",
    "            m 14\n",
    "            n 15\n",
    "            o 16\n",
    "            p 17\n",
    "            q 18\n",
    "            r 19\n",
    "            s 20\n",
    "            t 21\n",
    "            u 22\n",
    "            v 23\n",
    "            w 24\n",
    "            x 25\n",
    "            y 26\n",
    "            z 27\n",
    "        \"\"\"\n",
    "        self.char_map = {}\n",
    "        self.index_map = {}\n",
    "        for line in char_map_str.strip().split('\\n'):\n",
    "            ch, index = line.split()\n",
    "            self.char_map[ch] = int(index)\n",
    "            self.index_map[int(index)] = ch\n",
    "        self.index_map[1] = ' '\n",
    "\n",
    "    def text_to_int(self, text):\n",
    "        \"\"\" Use a character map and convert text to an integer sequence \"\"\"\n",
    "        int_sequence = []\n",
    "        for c in text:\n",
    "            if c == ' ':\n",
    "                ch = self.char_map['']\n",
    "            else:\n",
    "                ch = self.char_map[c]\n",
    "            int_sequence.append(ch)\n",
    "        return int_sequence\n",
    "    \n",
    "    def int_to_text(self, labels):\n",
    "        \"\"\" Use a character map and convert integer labels to text sequence \"\"\"\n",
    "        string = []\n",
    "        for i in labels:\n",
    "            string.append(self.index_map[i])\n",
    "        return ''.join(string).replace('', ' ')\n",
    "    \n",
    "    def tensor_to_text(self, tensor):\n",
    "        word = tensor.transpose(1,0)\n",
    "        output = [0]*len(word)\n",
    "        for i in range(len(word)):\n",
    "            for j in range(28):\n",
    "                if word[i][j] == 1: output[i] = self.index_map[j]\n",
    "        return ''.join(output)\n",
    "\n",
    "    def one_hot_enc(self, word):\n",
    "        \"\"\" Returns a sequence of ones and zeros, result of one hot encoding \"\"\"\n",
    "        word = self.text_to_int(word)\n",
    "        word = Variable(torch.tensor(word))\n",
    "        word = torch.nn.functional.one_hot(word, len(self.index_map))\n",
    "        return word.transpose(0, 1)"
   ]
  },
  {
   "cell_type": "markdown",
   "metadata": {},
   "source": [
    "### Custom dataset\n",
    "\n",
    "* wav file => spectrogram\n",
    "* word => one-hot encoded tensors (28xword_size)"
   ]
  },
  {
   "cell_type": "code",
   "execution_count": 86,
   "metadata": {},
   "outputs": [],
   "source": [
    "class SpeakDataset(Dataset):\n",
    "    \"\"\" Pronunced words dataset \"\"\"\n",
    "\n",
    "    def __init__(self, csv_file: str, root_dir: str, audio_transform=None, text_transform=None):\n",
    "        \"\"\" Args:\n",
    "            csv_file (string): path to the csv file\n",
    "            root_dir (string): directory with all the audio files\n",
    "            transform (callable, optional): optional transform to be applied on a sample\n",
    "        \"\"\"\n",
    "        self.root_dir = root_dir\n",
    "        self.audio_transform = audio_transform\n",
    "        self.text_transform = TextTransform()\n",
    "        self.data_labels = pd.read_csv(csv_file)\n",
    "\n",
    "    def __len__(self):\n",
    "        return len(self.data_labels)\n",
    "    \n",
    "    def __getitem__(self, idx):\n",
    "        if torch.is_tensor(idx):\n",
    "            idx = idx.tolist()\n",
    "        \n",
    "        audio_name = os.path.join(self.root_dir, self.data_labels['filename'][idx])\n",
    "        waveform, sample_rate = torchaudio.load(audio_name)\n",
    "        word = self.data_labels['word'][idx]\n",
    "        \n",
    "        # one hot encoding word\n",
    "        label = self.text_transform.one_hot_enc(word)\n",
    "        \n",
    "        # spectrogram\n",
    "        specgram = torchaudio.transforms.MelSpectrogram()(waveform)\n",
    "        specgram = F.interpolate(specgram, size=len(word), mode=\"nearest\")\n",
    "\n",
    "        if self.audio_transform:\n",
    "            specgram = self.audio_transform(specgram)\n",
    "        \n",
    "        sample = { \"specgram\": specgram, \"label\": label }\n",
    "\n",
    "        return sample"
   ]
  },
  {
   "cell_type": "code",
   "execution_count": 87,
   "metadata": {
    "scrolled": false
   },
   "outputs": [
    {
     "name": "stdout",
     "output_type": "stream",
     "text": [
      "Shape of spectrogram: torch.Size([1, 2, 128, 4])\n",
      "Shape of spectrogram: torch.Size([1, 2, 128, 5])\n",
      "Shape of spectrogram: torch.Size([1, 2, 128, 8])\n"
     ]
    },
    {
     "data": {
      "image/png": "[encoded data removed]",
      "text/plain": [
       "<Figure size 432x288 with 1 Axes>"
      ]
     },
     "metadata": {
      "needs_background": "light"
     },
     "output_type": "display_data"
    },
    {
     "data": {
      "image/png": "[encoded data removed]",
      "text/plain": [
       "<Figure size 432x288 with 1 Axes>"
      ]
     },
     "metadata": {
      "needs_background": "light"
     },
     "output_type": "display_data"
    },
    {
     "data": {
      "image/png": "[encoded data removed]",
      "text/plain": [
       "<Figure size 432x288 with 1 Axes>"
      ]
     },
     "metadata": {
      "needs_background": "light"
     },
     "output_type": "display_data"
    }
   ],
   "source": [
    "# testing the audio preprocessing pipeline\n",
    "\n",
    "dataset = SpeakDataset(csv_file='data.csv', root_dir='data')\n",
    "train_data = DataLoader(dataset, batch_size=1, shuffle=True)\n",
    "text_transformer = TextTransform()\n",
    "\n",
    "for idx, sample in enumerate(train_data):\n",
    "    specgram = sample[\"specgram\"]\n",
    "    word = sample[\"label\"][0]\n",
    "    \n",
    "    print(f\"Shape of spectrogram: {specgram.size()}\")\n",
    "    plt.figure()\n",
    "    plt.title(f\"word: {text_transformer.tensor_to_text(word)}\")\n",
    "    p = plt.imshow(specgram.log2()[0, 0,:,:].detach().numpy())\n",
    "    \n",
    "    if idx > 1: break"
   ]
  },
  {
   "cell_type": "markdown",
   "metadata": {},
   "source": [
    "### Audio Encoder\n",
    "\n",
    "* Pretrained ResNet model\n",
    "* Transfer learning:\n",
    "    * new Linear layer\n",
    "    * new fully connected layer"
   ]
  },
  {
   "cell_type": "code",
   "execution_count": 53,
   "metadata": {},
   "outputs": [
    {
     "name": "stderr",
     "output_type": "stream",
     "text": [
      "Downloading: \"https://download.pytorch.org/models/resnet34-333f7ec4.pth\" to /home/achraf/.cache/torch/hub/checkpoints/resnet34-333f7ec4.pth\n"
     ]
    },
    {
     "data": {
      "application/vnd.jupyter.widget-view+json": {
       "model_id": "58891f37a3664cacb4387d2e452205b4",
       "version_major": 2,
       "version_minor": 0
      },
      "text/plain": [
       "HBox(children=(HTML(value=''), FloatProgress(value=0.0, max=87306240.0), HTML(value='')))"
      ]
     },
     "metadata": {},
     "output_type": "display_data"
    },
    {
     "name": "stdout",
     "output_type": "stream",
     "text": [
      "\n"
     ]
    }
   ],
   "source": [
    "resnet_model = models.resnet34(pretrained=True)\n",
    "resnet_model.fc = nn.Linear(512,50)\n",
    "resnet_model.conv1 = nn.Conv2d(1, 64, kernel_size=(7, 7), stride=(2, 2), padding=(3, 3), bias=False)\n",
    "resnet_model = resnet_model.to(device)"
   ]
  },
  {
   "cell_type": "code",
   "execution_count": null,
   "metadata": {},
   "outputs": [],
   "source": [
    "def train(model, loss_fn,\n",
    "          train_loader, valid_loader,\n",
    "          epochs, optimizer, train_losses,\n",
    "          valid_losses, change_lr=None):\n",
    "    \n",
    "    for epoch in tqdm(range(1,epochs+1)):\n",
    "        model.train()\n",
    "        batch_losses=[]\n",
    "    \n",
    "    if change_lr:\n",
    "        optimizer = change_lr(optimizer, epoch)\n",
    "    \n",
    "    for i, data in enumerate(train_loader):\n",
    "        x, y = data\n",
    "        optimizer.zero_grad()\n",
    "        x = x.to(device, dtype=torch.float32)\n",
    "        y = y.to(device, dtype=torch.long)\n",
    "        y_hat = model(x)\n",
    "        loss = loss_fn(y_hat, y)\n",
    "        loss.backward()\n",
    "        batch_losses.append(loss.item())\n",
    "        optimizer.step()\n",
    "    \n",
    "    train_losses.append(batch_losses)\n",
    "    print(f'Epoch - {epoch} Train-Loss : {np.mean(train_losses[-1])}')\n",
    "    model.eval()\n",
    "    batch_losses=[]\n",
    "    trace_y = []\n",
    "    trace_yhat = []\n",
    "    \n",
    "    for i, data in enumerate(valid_loader):\n",
    "        x, y = data\n",
    "        x = x.to(device, dtype=torch.float32)\n",
    "        y = y.to(device, dtype=torch.long)\n",
    "        y_hat = model(x)\n",
    "        loss = loss_fn(y_hat, y)\n",
    "        trace_y.append(y.cpu().detach().numpy())\n",
    "        trace_yhat.append(y_hat.cpu().detach().numpy())      \n",
    "        batch_losses.append(loss.item())\n",
    "    \n",
    "    valid_losses.append(batch_losses)\n",
    "    trace_y = np.concatenate(trace_y)\n",
    "    trace_yhat = np.concatenate(trace_yhat)\n",
    "    accuracy = np.mean(trace_yhat.argmax(axis=1)==trace_y)\n",
    "    print(f'Epoch - {epoch} Valid-Loss : {np.mean(valid_losses[-1])} Valid-Accuracy : {accuracy}')"
   ]
  },
  {
   "cell_type": "code",
   "execution_count": 67,
   "metadata": {},
   "outputs": [
    {
     "name": "stdout",
     "output_type": "stream",
     "text": [
      "torch.Size([1, 50])\n",
      "torch.Size([1, 50])\n",
      "torch.Size([1, 50])\n"
     ]
    }
   ],
   "source": [
    "conv = nn.Conv2d(2,1,3,stride=(1,1),padding=(1,1))\n",
    "x = torch.randn([1, 2, 128, 128])\n",
    "\n",
    "for idx, sample in enumerate(train_data):\n",
    "    specgram = sample[\"specgram\"]\n",
    "    output = conv(specgram)\n",
    "    output = resnet_model(output)\n",
    "    print(output.size())\n",
    "    \n",
    "    if idx > 1: break\n",
    "# resnet_model(x)"
   ]
  },
  {
   "cell_type": "code",
   "execution_count": null,
   "metadata": {},
   "outputs": [],
   "source": [
    "class AudioEncoder(nn.Module):\n",
    "    def __init__(self, in_channels: int, out_channels: int, word_size: int):\n",
    "        super(AudioEncoder, self).__init__()\n",
    "        self.l1 = nn.Linear(in_channels, out_channels, bias=False)\n",
    "        self.resnet = models.resnet18(pretrained=True)\n",
    "        self.l2 = nn.Linear(out_channels, word_size, bias=False)\n",
    "        resnet_model = models.resnet34(pretrained=True)\n",
    "        resnet_model.fc = nn.Linear(512,50)\n",
    "        resnet_model.conv1 = nn.Conv2d(1, 64, kernel_size=(7, 7), stride=(2, 2), padding=(3, 3), bias=False)\n",
    "        resnet_model = resnet_model.to(device)\n",
    "    \n",
    "    def forward(input):\n",
    "        output = F.gelu(self.l1(input))\n",
    "        output = F.gelu(self.resnet(input))\n",
    "\n",
    "        return F.gelu(self.l1(input))"
   ]
  },
  {
   "cell_type": "code",
   "execution_count": null,
   "metadata": {},
   "outputs": [],
   "source": [
    "def lr_decay(optimizer, epoch):\n",
    "    if epoch%10==0:\n",
    "        new_lr = learning_rate / (10**(epoch//10))\n",
    "        optimizer = setlr(optimizer, new_lr)\n",
    "        print(f'Changed learning rate to {new_lr}')\n",
    "    return optimizer"
   ]
  },
  {
   "cell_type": "code",
   "execution_count": null,
   "metadata": {},
   "outputs": [],
   "source": [
    "resnet_model = models.resnet34(pretrained=True)\n",
    "resnet_model.fc = nn.Linear(512,50)\n",
    "resnet_model.conv1 = nn.Conv2d(1, 64, kernel_size=(7, 7), stride=(2, 2), padding=(3, 3), bias=False)\n",
    "resnet_model = resnet_model.to(device)\n",
    "\n",
    "learning_rate = 2e-4\n",
    "optimizer = optim.Adam(resnet_model.parameters(), lr=learning_rate)\n",
    "epochs = 50\n",
    "loss_fn = nn.CrossEntropyLoss()\n",
    "resnet_train_losses=[]\n",
    "resnet_valid_losses=[]\n",
    "\n",
    "train(resnet_model, loss_fn,\n",
    "      train_loader, valid_loader,\n",
    "      epochs, optimizer,\n",
    "      resnet_train_losses, resnet_valid_losses,\n",
    "      lr_decay)"
   ]
  },
  {
   "cell_type": "markdown",
   "metadata": {},
   "source": [
    "### Self attention Encoder (Transformer)\n",
    "\n",
    "* input: encoded audio + one-hot encoded word, concatenated (x axis being the time)"
   ]
  },
  {
   "cell_type": "code",
   "execution_count": 70,
   "metadata": {},
   "outputs": [],
   "source": [
    "class SelfAttention(nn.Module):\n",
    "    def __init__(self, k, heads=8):\n",
    "        super(SelfAttention, self).__init__()\n",
    "        self.k, self.heads = k, heads\n",
    "\n",
    "        self.tokeys = nn.Linear(k, k*heads, bias=False)\n",
    "        self.toqueries = nn.Linear(k, k*heads, bias=False)\n",
    "        self.tovalues = nn.Linear(k, k*heads, bias=False)\n",
    "        \n",
    "        self.unifyheads = nn.Linear(heads*k, k)\n",
    "    \n",
    "    def forward(self, x):\n",
    "        b, t, k = x.size()\n",
    "        h = self.heads\n",
    "\n",
    "        queries = self.toqueries(x).view(b, t, h, k)\n",
    "        keys = self.tokeys(x).view(b,t,h,k)\n",
    "        values = self.tovalues(x).view(b,t,h,k)\n",
    "\n",
    "        keys = keys.transpose(1,2).contiguous().view(b*h,t,k)\n",
    "        queries = queries.transpose(1,2).contiguous().view(b*h,t,k)\n",
    "        values = values.transpose(1,2).contiguous().view(b*h,t,k)\n",
    "\n",
    "        queries = queries / (k ** (1/4))\n",
    "        keys = keys / (k ** (1/4))\n",
    "\n",
    "        dot = torch.bmm(queries, keys.transpose(1,2))\n",
    "        dot = F.softmax(dot, dim=2)\n",
    "        out = torch.bmm(dot, values).view(b,h,t,k)\n",
    "        out = out.transpose(1,2).contiguous().view(b,t,h*k)\n",
    "        return self.unifyheads(out)"
   ]
  },
  {
   "cell_type": "code",
   "execution_count": 71,
   "metadata": {},
   "outputs": [],
   "source": [
    "class TransformerBlock(nn.Module):\n",
    "    def __init__(self, k, heads):\n",
    "        super(TransformerBlock, self).__init__()\n",
    "        self.attention = SelfAttention(k, heads=heads)\n",
    "\n",
    "        self.norm1 = nn.LayerNorm(k)\n",
    "        self.norm2 = nn.LayerNorm(k)\n",
    "\n",
    "        self.ff = nn.Sequential(\n",
    "            nn.Linear(k, 4*k),\n",
    "            nn.ReLU(),\n",
    "            nn.Linear(4*k, k)\n",
    "        )\n",
    "\n",
    "    def forward(self, x):\n",
    "        attended = self.attention(x)\n",
    "        x = self.norm1(attended+x)\n",
    "        fedforward = sef.ff(x)\n",
    "        return self.norm2(fedforward+x)"
   ]
  },
  {
   "cell_type": "code",
   "execution_count": 72,
   "metadata": {},
   "outputs": [],
   "source": [
    "class Transformer(nn.Module):\n",
    "    def __init__(self, k, heads, depth, seq_length, num_tokens, num_classes):\n",
    "        super(Transformer, self).__init__()\n",
    "        self.num_tokens = num_tokens\n",
    "        self.token_emb = nn.Embedding(num_tokens, k)\n",
    "        self.pos_emb = nn.Embedding(seq_length, k)\n",
    "\n",
    "        tblocks = [TransformerBlock(k=k, heads=heads) for i in range(depth)]\n",
    "        self.tblocks = nn.Sequential(*tblocks)\n",
    "\n",
    "        self.toprobs = nn.Linear(k, num_classes)\n",
    "    \n",
    "    def forward(self, x):\n",
    "        \"\"\"\n",
    "            :param x: A (b,t) tensor of integer values representing letters\n",
    "            :retur,: A (b,c) tensor of log-probabilities over the classes\n",
    "        \"\"\"\n",
    "\n",
    "        tokens = self.token_emb(x)\n",
    "        b, t, k = tokens.size()\n",
    "        positions = torch.arange(t)\n",
    "        positions = self.pos_emb(positions)[None, :, :].expand(b,t,k)\n",
    "\n",
    "        x = tokens + positions\n",
    "        x = self.tblocks(x)\n",
    "\n",
    "        x = self.toprobs(x.mean(dim=1))\n",
    "        return F.log_softmax(x, dim=1)"
   ]
  },
  {
   "cell_type": "markdown",
   "metadata": {},
   "source": [
    "### Final model (putting everything together)"
   ]
  },
  {
   "cell_type": "code",
   "execution_count": null,
   "metadata": {},
   "outputs": [],
   "source": [
    "class SpeakfluentModel(nn.Module):\n",
    "    def __init__(self):\n",
    "        super(SpeakfluentModel, self).__init__()\n",
    "        self.audio_encoder = AudioEncoder()\n",
    "        self.transformer = Transformer()\n",
    "        self.conv2d = nn.Conv2d(in_channels=16,out_channels=33,kernel_size=(16,1))\n",
    "        self.softmax = nn.Softmax(dim=1)\n",
    "\n",
    "    def forward(self, word, audio):\n",
    "        word = self.audio_encoder(word)\n",
    "        audio = self.audio_encoder(audio)\n",
    "        # concatenate word and audio on the y axis\n",
    "        output = torch.cat((word, audio), 0)\n",
    "        # feed forward to the transformer\n",
    "        output = self.transformer(output)\n",
    "        # apply conv2d to get a 1D tensor\n",
    "        output = self.conv2d(output)\n",
    "        # apply softmax\n",
    "        return self.softmax(output)"
   ]
  }
 ],
 "metadata": {
  "kernelspec": {
   "display_name": "pytorch",
   "language": "python",
   "name": "pytorch"
  },
  "language_info": {
   "codemirror_mode": {
    "name": "ipython",
    "version": 3
   },
   "file_extension": ".py",
   "mimetype": "text/x-python",
   "name": "python",
   "nbconvert_exporter": "python",
   "pygments_lexer": "ipython3",
   "version": "3.6.10"
  }
 },
 "nbformat": 4,
 "nbformat_minor": 2
}
