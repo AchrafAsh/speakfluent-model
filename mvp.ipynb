{
 "cells": [
  {
   "cell_type": "code",
   "execution_count": 79,
   "metadata": {},
   "outputs": [
    {
     "name": "stdout",
     "output_type": "stream",
     "text": [
      "cpu\n"
     ]
    }
   ],
   "source": [
    "import os\n",
    "import string\n",
    "from tqdm import tqdm\n",
    "\n",
    "import torch\n",
    "import torch.nn as nn\n",
    "import torch.nn.functional as F\n",
    "from torch.utils.data import DataLoader\n",
    "from torch.utils.data import Dataset\n",
    "from torch.autograd import Variable\n",
    "from torch.nn.utils.rnn import pad_sequence\n",
    "\n",
    "import torchvision.models as models\n",
    "from torchvision import transforms\n",
    "\n",
    "import torchaudio\n",
    "\n",
    "import numpy as np\n",
    "import pandas as pd\n",
    "import matplotlib.pyplot as plt\n",
    "\n",
    "%matplotlib inline\n",
    "\n",
    "device = torch.device(\"cuda\" if torch.cuda.is_available() else \"cpu\")\n",
    "print(device)"
   ]
  },
  {
   "cell_type": "code",
   "execution_count": 23,
   "metadata": {},
   "outputs": [],
   "source": [
    "class TextTransform:\n",
    "    \"\"\" Maps characters to integers and vice versa \"\"\"\n",
    "    def __init__(self):\n",
    "        char_map_str = \"\"\"\n",
    "            ' 0\n",
    "            <SPACE> 1\n",
    "            a 2\n",
    "            b 3\n",
    "            c 4\n",
    "            d 5\n",
    "            e 6\n",
    "            f 7\n",
    "            g 8\n",
    "            h 9\n",
    "            i 10\n",
    "            j 11\n",
    "            k 12\n",
    "            l 13\n",
    "            m 14\n",
    "            n 15\n",
    "            o 16\n",
    "            p 17\n",
    "            q 18\n",
    "            r 19\n",
    "            s 20\n",
    "            t 21\n",
    "            u 22\n",
    "            v 23\n",
    "            w 24\n",
    "            x 25\n",
    "            y 26\n",
    "            z 27\n",
    "        \"\"\"\n",
    "        self.char_map = {}\n",
    "        self.index_map = {}\n",
    "        for line in char_map_str.strip().split('\\n'):\n",
    "            ch, index = line.split()\n",
    "            self.char_map[ch] = int(index)\n",
    "            self.index_map[int(index)] = ch\n",
    "        self.index_map[1] = ' '\n",
    "\n",
    "    def text_to_int(self, text):\n",
    "        \"\"\" Use a character map and convert text to an integer sequence \"\"\"\n",
    "        int_sequence = []\n",
    "        for c in text:\n",
    "            if c == ' ':\n",
    "                ch = self.char_map['']\n",
    "            else:\n",
    "                ch = self.char_map[c]\n",
    "            int_sequence.append(ch)\n",
    "        return int_sequence\n",
    "    \n",
    "    def int_to_text(self, labels):\n",
    "        \"\"\" Use a character map and convert integer labels to text sequence \"\"\"\n",
    "        string = []\n",
    "        for i in labels:\n",
    "            string.append(self.index_map[i])\n",
    "        return ''.join(string).replace('', ' ')\n",
    "    \n",
    "    def tensor_to_text(self, tensor):\n",
    "        word = tensor.transpose(1,0)\n",
    "        output = ['']*len(tensor)\n",
    "        for i in range(len(tensor)):\n",
    "            for j in range(28):\n",
    "                if word[j][i] == 1: output[i] = self.index_map[j]\n",
    "        print(output)\n",
    "        return ''.join(output)\n",
    "\n",
    "    def one_hot_enc(self, word):\n",
    "        \"\"\" Returns a sequence of ones and zeros, result of one hot encoding \"\"\"\n",
    "        word = self.text_to_int(word)\n",
    "        word = Variable(torch.tensor(word))\n",
    "        word = torch.nn.functional.one_hot(word, len(self.index_map))\n",
    "        return word.transpose(0, 1)"
   ]
  },
  {
   "cell_type": "code",
   "execution_count": 24,
   "metadata": {},
   "outputs": [],
   "source": [
    "class SpeakDataset(Dataset):\n",
    "    \"\"\" Pronunced words dataset \"\"\"\n",
    "\n",
    "    def __init__(self, csv_file: str, root_dir: str, audio_transform=None, text_transform=None):\n",
    "        \"\"\" Args:\n",
    "            csv_file (string): path to the csv file\n",
    "            root_dir (string): directory with all the audio files\n",
    "            transform (callable, optional): optional transform to be applied on a sample\n",
    "        \"\"\"\n",
    "        self.root_dir = root_dir\n",
    "        self.audio_transform = audio_transform\n",
    "        self.text_transform = TextTransform()\n",
    "        self.data_labels = pd.read_csv(csv_file)\n",
    "\n",
    "    def __len__(self):\n",
    "        return len(self.data_labels)\n",
    "    \n",
    "    def __getitem__(self, idx):\n",
    "        if torch.is_tensor(idx):\n",
    "            idx = idx.tolist()\n",
    "        \n",
    "        audio_name = os.path.join(self.root_dir, self.data_labels['filename'][idx])\n",
    "        waveform, sample_rate = torchaudio.load(audio_name)\n",
    "        word = self.data_labels[\"word\"][idx]\n",
    "        score = self.data_labels[\"score\"][idx]\n",
    "        \n",
    "        # one hot encoding word\n",
    "        label = self.text_transform.one_hot_enc(word)\n",
    "        label = label.transpose(1,0)\n",
    "        \n",
    "        # spectrogram\n",
    "        specgram = torchaudio.transforms.MelSpectrogram()(waveform)\n",
    "        specgram = F.interpolate(specgram, size=len(word), mode=\"nearest\")\n",
    "        specgram = specgram.transpose(1,2)\n",
    "\n",
    "        # convert to tensor\n",
    "        score = score.split(';')\n",
    "        score = list(map(int, score))\n",
    "        score = torch.FloatTensor(score)\n",
    "        \n",
    "        if self.audio_transform:\n",
    "            specgram = self.audio_transform(specgram)\n",
    "        \n",
    "        sample = { \"specgram\": specgram, \"label\": label, \"score\": score }\n",
    "\n",
    "        return specgram, label, score"
   ]
  },
  {
   "cell_type": "code",
   "execution_count": 25,
   "metadata": {},
   "outputs": [],
   "source": [
    "def pad_collate(batch):\n",
    "    specgrams = [item[0].transpose(0,1) for item in batch]\n",
    "    labels = [item[1] for item in batch]\n",
    "    scores = [item[2] for item in batch]\n",
    "    \n",
    "    specgrams = pad_sequence(specgrams, batch_first=True, padding_value=0)\n",
    "    labels = pad_sequence(labels, batch_first=True, padding_value=0)\n",
    "    scores = pad_sequence(scores, batch_first=True, padding_value=0)\n",
    "    \n",
    "    return specgrams, labels, scores"
   ]
  },
  {
   "cell_type": "code",
   "execution_count": 39,
   "metadata": {
    "scrolled": false
   },
   "outputs": [],
   "source": [
    "# testing the audio preprocessing pipeline\n",
    "batch_size=4\n",
    "dataset = SpeakDataset(csv_file='data.csv', root_dir='data')\n",
    "train_data = DataLoader(dataset, batch_size=batch_size,\n",
    "                        shuffle=True, collate_fn=pad_collate)\n",
    "text_transformer = TextTransform()"
   ]
  },
  {
   "cell_type": "code",
   "execution_count": 62,
   "metadata": {
    "scrolled": false
   },
   "outputs": [
    {
     "name": "stdout",
     "output_type": "stream",
     "text": [
      "torch.Size([4, 8])\n",
      "Shape of spectrogram: torch.Size([4, 8, 2, 128])\n",
      "Shape of labels: torch.Size([4, 8, 28])\n",
      "['d', 'o', 'g', '', '', '', '', '']\n",
      "torch.Size([2, 8, 128])\n",
      "['l', 'o', 'v', 'e', '', '', '', '']\n",
      "torch.Size([2, 8, 128])\n",
      "['w', 'o', 'r', 'l', 'd', '', '', '']\n",
      "torch.Size([2, 8, 128])\n",
      "['b', 'u', 'i', 'l', 'd', 'i', 'n', 'g']\n",
      "torch.Size([2, 8, 128])\n",
      "torch.Size([4, 6])\n",
      "Shape of spectrogram: torch.Size([4, 6, 2, 128])\n",
      "Shape of labels: torch.Size([4, 6, 28])\n",
      "['s', 't', 'r', 'e', 'e', 't']\n",
      "torch.Size([2, 6, 128])\n",
      "['t', 'o', 'd', 'a', 'y', '']\n",
      "torch.Size([2, 6, 128])\n",
      "['h', 'o', 'u', 's', 'e', '']\n",
      "torch.Size([2, 6, 128])\n",
      "['s', 'c', 'h', 'o', 'o', 'l']\n",
      "torch.Size([2, 6, 128])\n",
      "torch.Size([4, 9])\n",
      "Shape of spectrogram: torch.Size([4, 9, 2, 128])\n",
      "Shape of labels: torch.Size([4, 9, 28])\n",
      "['d', 'o', 'n', 'e', '', '', '', '', '']\n",
      "torch.Size([2, 9, 128])\n",
      "['c', 'a', 't', '', '', '', '', '', '']\n",
      "torch.Size([2, 9, 128])\n",
      "['y', 'e', 's', 't', 'e', 'r', 'd', 'a', 'y']\n",
      "torch.Size([2, 9, 128])\n",
      "['h', 'o', 'n', 'e', 's', 't', 'y', '', '']\n",
      "torch.Size([2, 9, 128])\n"
     ]
    },
    {
     "data": {
      "image/png": "[encoded data removed]",
      "text/plain": [
       "<Figure size 432x288 with 1 Axes>"
      ]
     },
     "metadata": {
      "needs_background": "light"
     },
     "output_type": "display_data"
    },
    {
     "data": {
      "image/png": "[encoded data removed]",
      "text/plain": [
       "<Figure size 432x288 with 1 Axes>"
      ]
     },
     "metadata": {
      "needs_background": "light"
     },
     "output_type": "display_data"
    },
    {
     "data": {
      "image/png": "[encoded data removed]",
      "text/plain": [
       "<Figure size 432x288 with 1 Axes>"
      ]
     },
     "metadata": {
      "needs_background": "light"
     },
     "output_type": "display_data"
    },
    {
     "data": {
      "image/png": "[encoded data removed]",
      "text/plain": [
       "<Figure size 432x288 with 1 Axes>"
      ]
     },
     "metadata": {
      "needs_background": "light"
     },
     "output_type": "display_data"
    },
    {
     "data": {
      "image/png": "[encoded data removed]",
      "text/plain": [
       "<Figure size 432x288 with 1 Axes>"
      ]
     },
     "metadata": {
      "needs_background": "light"
     },
     "output_type": "display_data"
    },
    {
     "data": {
      "image/png": "[encoded data removed]",
      "text/plain": [
       "<Figure size 432x288 with 1 Axes>"
      ]
     },
     "metadata": {
      "needs_background": "light"
     },
     "output_type": "display_data"
    },
    {
     "data": {
      "image/png": "[encoded data removed]",
      "text/plain": [
       "<Figure size 432x288 with 1 Axes>"
      ]
     },
     "metadata": {
      "needs_background": "light"
     },
     "output_type": "display_data"
    },
    {
     "data": {
      "image/png": "[encoded data removed]",
      "text/plain": [
       "<Figure size 432x288 with 1 Axes>"
      ]
     },
     "metadata": {
      "needs_background": "light"
     },
     "output_type": "display_data"
    },
    {
     "data": {
      "image/png": "[encoded data removed]",
      "text/plain": [
       "<Figure size 432x288 with 1 Axes>"
      ]
     },
     "metadata": {
      "needs_background": "light"
     },
     "output_type": "display_data"
    },
    {
     "data": {
      "image/png": "[encoded data removed]",
      "text/plain": [
       "<Figure size 432x288 with 1 Axes>"
      ]
     },
     "metadata": {
      "needs_background": "light"
     },
     "output_type": "display_data"
    },
    {
     "data": {
      "image/png": "[encoded data removed]",
      "text/plain": [
       "<Figure size 432x288 with 1 Axes>"
      ]
     },
     "metadata": {
      "needs_background": "light"
     },
     "output_type": "display_data"
    },
    {
     "data": {
      "image/png": "[encoded data removed]",
      "text/plain": [
       "<Figure size 432x288 with 1 Axes>"
      ]
     },
     "metadata": {
      "needs_background": "light"
     },
     "output_type": "display_data"
    }
   ],
   "source": [
    "for idx, sample in enumerate(train_data):\n",
    "    specgram, label, score = sample\n",
    "    specgram.size()\n",
    "    print(score.size())\n",
    "    \n",
    "    print(f\"Shape of spectrogram: {specgram.size()}\")\n",
    "    print(f\"Shape of labels: {label.size()}\")\n",
    "    \n",
    "    for i in range(batch_size):\n",
    "        spectogram = specgram[i].transpose(1,0)\n",
    "        plt.figure()\n",
    "        plt.title(f\"word: {text_transformer.tensor_to_text(label[i])}\")\n",
    "        print(spectogram.size())\n",
    "        spectogram = spectogram.transpose(1,2)\n",
    "        plt.imshow(spectogram.log2()[0,:,:].detach().numpy())\n",
    "    \n",
    "    if idx > 1: break"
   ]
  },
  {
   "cell_type": "code",
   "execution_count": 50,
   "metadata": {},
   "outputs": [],
   "source": [
    "class MVPModel(nn.Module):\n",
    "    def __init__(self):\n",
    "        super(MVPModel, self).__init__()\n",
    "        self.rnn = nn.LSTM(input_size=128+28, hidden_size=20,\n",
    "                           num_layers=2, bidirectional=True)\n",
    "        self.fc = nn.Linear(40, 1)\n",
    "        self.softmax = nn.Softmax(dim=0)\n",
    "        \n",
    "    def forward(self, specgram, label, initial_states):\n",
    "        # initial states\n",
    "        h0, c0 = initial_states\n",
    "        \n",
    "        x = torch.cat((label, specgram), 2)\n",
    "        \n",
    "        output, (hn, cn) = self.rnn(x, (h0, c0))\n",
    "        output = self.fc(output)\n",
    "        return self.softmax(output)"
   ]
  },
  {
   "cell_type": "code",
   "execution_count": 66,
   "metadata": {
    "scrolled": false
   },
   "outputs": [
    {
     "name": "stdout",
     "output_type": "stream",
     "text": [
      "torch.Size([4, 5, 128])\n",
      "torch.Size([4, 5, 28])\n",
      "pred: torch.Size([4, 5]), score: torch.Size([4, 5])\n",
      "torch.Size([4, 7, 128])\n",
      "torch.Size([4, 7, 28])\n",
      "pred: torch.Size([4, 7]), score: torch.Size([4, 7])\n",
      "torch.Size([4, 8, 128])\n",
      "torch.Size([4, 8, 28])\n",
      "pred: torch.Size([4, 8]), score: torch.Size([4, 8])\n"
     ]
    }
   ],
   "source": [
    "# testing the model i/o\n",
    "model = MVPModel()\n",
    "\n",
    "x = torch.randn(4,4,128)\n",
    "y = torch.randn(4,4,28)\n",
    "\n",
    "for idx, sample in enumerate(train_data):\n",
    "    specgram, label, score = sample\n",
    "    specgram = specgram[:,:,0,:]\n",
    "    \n",
    "    _, word_size, _ = label.size()\n",
    "    \n",
    "    print(specgram.size())\n",
    "    print(label.size())\n",
    "    \n",
    "    # initial states\n",
    "    h0 = torch.zeros(4,word_size,20)\n",
    "    c0 = torch.zeros(4,word_size,20)\n",
    "    \n",
    "    output = model(specgram, label, (h0,c0))\n",
    "    \n",
    "    print(f\"pred: {output[:,:,0].size()}, score: {score.size()}\")\n",
    "    \n",
    "    # print(f\"Shape of spectrogram: {specgram.size()}\")\n",
    "    # print(f\"Shape of labels: {label.size()}\")\n",
    "    \n",
    "    if idx > 1: break\n",
    "\n",
    "# output = model(x, y)\n",
    "# print(x.size(), output.size())\n",
    "# print(output)"
   ]
  },
  {
   "cell_type": "code",
   "execution_count": 126,
   "metadata": {},
   "outputs": [],
   "source": [
    "def train(model, loss_fn,\n",
    "         train_loader, valid_loader,\n",
    "         epochs, optimizer, train_losses,\n",
    "         valid_losses, change_lr=None):\n",
    "    \n",
    "    for epoch in tqdm(range(1, epochs+1)):\n",
    "        model.train()\n",
    "        batch_losses = []\n",
    "        \n",
    "    if change_lr:\n",
    "        optimizer = change_lr(optimizer, epoch)\n",
    "    \n",
    "    for i, sample in enumerate(train_loader):\n",
    "        specgram, label, score = sample\n",
    "        specgram = specgram[:,:,0,:].to(device)\n",
    "        label = label.to(device)\n",
    "        score = score.to(device)\n",
    "        _, word_size, _ = label.size()\n",
    "\n",
    "        # initial states\n",
    "        h0 = torch.ones(4,word_size,20)\n",
    "        c0 = torch.ones(4,word_size,20)\n",
    "        \n",
    "        score_pred = model(specgram, label, (h0,c0))[:,:,0]\n",
    "        \n",
    "        loss = loss_fn(score_pred, score)\n",
    "        loss.backward()\n",
    "        batch_losses.append(loss.item())\n",
    "        optimizer.step()\n",
    "    \n",
    "    train_losses.append(batch_losses)\n",
    "    print(f'Epoch - {epoch} Train-Loss : {np.mean(train_losses[-1])}')\n",
    "    model.eval()\n",
    "    batch_losses=[]\n",
    "    trace_score = []\n",
    "    trace_score_pred = []\n",
    "    \n",
    "    for i, data in enumerate(valid_loader):\n",
    "        specgram, label, score = sample\n",
    "        specgram = specgram[:,:,0,:].to(device)\n",
    "        label = label.to(device)\n",
    "        score = score.to(device)\n",
    "        _, word_size, _ = label.size()\n",
    "        # print([text_transformer.tensor_to_text(label[i]) for i in range(len(label))])\n",
    "        # print(f\"specgram size: {specgram.size()}, label size: {label.size()}\")\n",
    "\n",
    "        # initial states\n",
    "        h0 = torch.ones(4,word_size,20)\n",
    "        c0 = torch.ones(4,word_size,20)\n",
    "        \n",
    "        score_pred = model(specgram, label, (h0,c0))[:,:,0]\n",
    "        \n",
    "        loss = loss_fn(score_pred, score)\n",
    "        trace_score.append(score.cpu().detach().numpy())\n",
    "        trace_score_pred.append(score_pred.cpu().detach().numpy())      \n",
    "        batch_losses.append(loss.item())\n",
    "    \n",
    "    valid_losses.append(batch_losses)\n",
    "    trace_score = np.concatenate(trace_score)\n",
    "    trace_score_pred = np.concatenate(trace_score_pred)\n",
    "    accuracy = np.mean(trace_score_pred.argmax(axis=1)==trace_score)\n",
    "    print(f'Epoch - {epoch} Valid-Loss : {np.mean(valid_losses[-1])} Valid-Accuracy : {accuracy}')\n",
    "        "
   ]
  },
  {
   "cell_type": "code",
   "execution_count": 127,
   "metadata": {
    "scrolled": false
   },
   "outputs": [
    {
     "name": "stderr",
     "output_type": "stream",
     "text": [
      "100%|██████████| 50/50 [00:00<00:00, 114535.88it/s]"
     ]
    },
    {
     "name": "stdout",
     "output_type": "stream",
     "text": [
      "Epoch - 50 Train-Loss : 0.5235017786423365\n",
      "Epoch - 50 Valid-Loss : 0.4066477119922638 Valid-Accuracy : 0.0\n"
     ]
    },
    {
     "name": "stderr",
     "output_type": "stream",
     "text": [
      "\n",
      "/home/achraf/.local/lib/python3.6/site-packages/ipykernel_launcher.py:61: DeprecationWarning: elementwise comparison failed; this will raise an error in the future.\n"
     ]
    }
   ],
   "source": [
    "# load data\n",
    "batch_size=4\n",
    "dataset = SpeakDataset(csv_file='data.csv', root_dir='data')\n",
    "train_loader = DataLoader(dataset, batch_size=batch_size,\n",
    "                        shuffle=True, collate_fn=pad_collate)\n",
    "valid_loader = DataLoader(dataset, batch_size=batch_size,\n",
    "                        shuffle=True, collate_fn=pad_collate)\n",
    "\n",
    "text_transformer = TextTransform()\n",
    "\n",
    "model = MVPModel()\n",
    "\n",
    "learning_rate = 2e-4\n",
    "optimizer = torch.optim.Adam(model.parameters(), lr=learning_rate)\n",
    "epochs = 50\n",
    "loss_fn = nn.MSELoss()\n",
    "train_losses=[]\n",
    "valid_losses=[]\n",
    "\n",
    "train(model, loss_fn,\n",
    "      train_loader, valid_loader,\n",
    "      epochs, optimizer,\n",
    "      train_losses, valid_losses)"
   ]
  },
  {
   "cell_type": "code",
   "execution_count": 123,
   "metadata": {},
   "outputs": [],
   "source": [
    "def post_processing(label, score):\n",
    "    print(f\"label: {label}\")\n",
    "    label_len = len(label)\n",
    "    real_len = 0\n",
    "    j = 0\n",
    "    \n",
    "    while j < label_len:\n",
    "        if label[j+1:] == [0]*28:\n",
    "            real_len = j\n",
    "            break\n",
    "        j+=1\n",
    "    \n",
    "    return label[:j+1], score[:j+1]"
   ]
  }
 ],
 "metadata": {
  "kernelspec": {
   "display_name": "pytorch",
   "language": "python",
   "name": "pytorch"
  },
  "language_info": {
   "codemirror_mode": {
    "name": "ipython",
    "version": 3
   },
   "file_extension": ".py",
   "mimetype": "text/x-python",
   "name": "python",
   "nbconvert_exporter": "python",
   "pygments_lexer": "ipython3",
   "version": "3.6.10"
  }
 },
 "nbformat": 4,
 "nbformat_minor": 2
}
